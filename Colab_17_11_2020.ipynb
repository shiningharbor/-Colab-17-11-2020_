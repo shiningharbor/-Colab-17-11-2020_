{
  "nbformat": 4,
  "nbformat_minor": 0,
  "metadata": {
    "colab": {
      "name": "Colab-17-11-2020.ipynb",
      "provenance": [],
      "authorship_tag": "ABX9TyN4y/zC4JvaAtTqv4z63TFK",
      "include_colab_link": true
    },
    "kernelspec": {
      "name": "python3",
      "display_name": "Python 3"
    }
  },
  "cells": [
    {
      "cell_type": "markdown",
      "metadata": {
        "id": "view-in-github",
        "colab_type": "text"
      },
      "source": [
        "<a href=\"https://colab.research.google.com/github/shiningharbor/-Colab-17-11-2020_/blob/main/Colab_17_11_2020.ipynb\" target=\"_parent\"><img src=\"https://colab.research.google.com/assets/colab-badge.svg\" alt=\"Open In Colab\"/></a>"
      ]
    },
    {
      "cell_type": "code",
      "metadata": {
        "colab": {
          "base_uri": "https://localhost:8080/"
        },
        "id": "8NcxqdV8SVBJ",
        "outputId": "8a53142e-e8c7-4dd1-fbf2-b9427daf4041"
      },
      "source": [
        "edad = 18\n",
        "estatura = 1.70\n",
        "\n",
        "a = 10\n",
        "b = 3\n",
        "\n",
        "c = 2 ** 2\n",
        "print (c)\n",
        "\n",
        "e = estatura * 2.0 \n",
        "print(e)\n",
        "\n",
        "f= a/b #El calculo de las diviciones es exacto, por lo cual da 3.3333333\n",
        "print(f)\n",
        "\n",
        "g= a//b #este da el entero\n",
        "print(g)\n",
        "\n",
        "\n"
      ],
      "execution_count": null,
      "outputs": [
        {
          "output_type": "stream",
          "text": [
            "4\n",
            "3.4\n",
            "3\n"
          ],
          "name": "stdout"
        }
      ]
    },
    {
      "cell_type": "code",
      "metadata": {
        "colab": {
          "base_uri": "https://localhost:8080/"
        },
        "id": "MuId-EmkSQCZ",
        "outputId": "3cc8f2a4-1e52-48d4-f23c-daef498204db"
      },
      "source": [
        "#Operadores logicos\n",
        "x = 5\n",
        "y = 4\n",
        "\n",
        "valor= (x==y)\n",
        "print (valor)\n",
        "\n",
        "valor= (x!=y)\n",
        "print (valor)\n",
        "\n",
        "valor= (x<y)\n",
        "print (valor)\n",
        "\n",
        "valor= (x>y)\n",
        "print (valor)\n",
        "y=5\n",
        "\n",
        "valor= (x<=y)\n",
        "print (valor)\n",
        "\n",
        "valor= (x>=y)\n",
        "print (valor)\n"
      ],
      "execution_count": 3,
      "outputs": [
        {
          "output_type": "stream",
          "text": [
            "False\n",
            "True\n",
            "False\n",
            "True\n",
            "True\n",
            "True\n"
          ],
          "name": "stdout"
        }
      ]
    }
  ]
}